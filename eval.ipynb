{
 "cells": [
  {
   "cell_type": "code",
   "id": "initial_id",
   "metadata": {
    "collapsed": true
   },
   "source": [
    "from pathlib import Path\n",
    "\n",
    "import torch\n",
    "\n",
    "from src.dataset import COCODataset, COCODataloader\n",
    "from src.models.unet import UNet\n",
    "from src.trainer import Trainer\n",
    "from src.utils import (\n",
    "    load_config,\n",
    "    seed_everything,\n",
    "    load_weights,\n",
    "    download_coco_data\n",
    ")\n",
    "from src.visuals import Segmentor\n",
    "\n",
    "print(\"Pytorch version:\", torch.__version__)\n",
    "print(\"CUDA enabled:\", torch.cuda.is_available())\n",
    "\n",
    "if torch.cuda.is_available():\n",
    "    print(\"Device:\", torch.cuda.get_device_name())"
   ],
   "outputs": [],
   "execution_count": null
  },
  {
   "metadata": {},
   "cell_type": "code",
   "source": [
    "CONFIG = load_config()\n",
    "seed_everything(CONFIG.seed)\n",
    "model = load_weights(\n",
    "    model=UNet(),\n",
    "    filepath=Path(r\".runs/v1/weights_best.pth\")\n",
    ")\n",
    "segmentor = Segmentor(model)\n",
    "CONFIG"
   ],
   "id": "6a6cee6f5c925b4",
   "outputs": [],
   "execution_count": null
  },
  {
   "metadata": {},
   "cell_type": "code",
   "source": [
    "data = download_coco_data(config=CONFIG, split=\"train\", max_samples=CONFIG.num_samples)\n",
    "train_end = int(CONFIG.num_samples * 0.8)\n",
    "val_start, val_end = train_end, train_end + int(CONFIG.num_samples * 0.1)\n",
    "test_start = val_end\n",
    "print(data)\n",
    "\n",
    "# import fiftyone\n",
    "# fiftyone.launch_app(data)"
   ],
   "id": "8a174174fdf345f1",
   "outputs": [],
   "execution_count": null
  },
  {
   "metadata": {},
   "cell_type": "code",
   "source": [
    "train_dataset = COCODataset(data[:train_end], summarize=False)\n",
    "val_dataset = COCODataset(data[val_start:val_end], summarize=False)\n",
    "test_dataset = COCODataset(data[test_start:], summarize=False)\n",
    "train_dl = COCODataloader(train_dataset, batch_size=CONFIG.batch_size, pin_memory=True)\n",
    "val_dl = COCODataloader(val_dataset, batch_size=CONFIG.batch_size, pin_memory=True)\n",
    "test_dl = COCODataloader(test_dataset, batch_size=CONFIG.batch_size, pin_memory=True)\n",
    "trainer = Trainer(model, dataloaders=(train_dl, val_dl))"
   ],
   "id": "2ab09de5f4da9e56",
   "outputs": [],
   "execution_count": null
  },
  {
   "metadata": {},
   "cell_type": "code",
   "source": [
    "for dataloader in (train_dl, val_dl, test_dl):\n",
    "    _, metrics = trainer.eval(dataloader)\n",
    "    trainer.log_metrics(metrics)"
   ],
   "id": "7ad45fe49ae656ad",
   "outputs": [],
   "execution_count": null
  },
  {
   "metadata": {},
   "cell_type": "code",
   "source": [
    "for i in range(5):\n",
    "    image, gt_mask = test_dataset[i]\n",
    "    segmentor.segment(image)\n",
    "    segmentor.visualize_mask(image, gt_mask)"
   ],
   "id": "c3476b698ba8bac1",
   "outputs": [],
   "execution_count": null
  },
  {
   "metadata": {},
   "cell_type": "code",
   "source": "segmentor.segment_url(\"https://www.lrt.lt/img/2020/05/05/648522-374636-756x425.jpg\")",
   "id": "6a50e45470413f6d",
   "outputs": [],
   "execution_count": null
  }
 ],
 "metadata": {
  "kernelspec": {
   "display_name": "Python 3",
   "language": "python",
   "name": "python3"
  },
  "language_info": {
   "codemirror_mode": {
    "name": "ipython",
    "version": 2
   },
   "file_extension": ".py",
   "mimetype": "text/x-python",
   "name": "python",
   "nbconvert_exporter": "python",
   "pygments_lexer": "ipython2",
   "version": "2.7.6"
  }
 },
 "nbformat": 4,
 "nbformat_minor": 5
}
