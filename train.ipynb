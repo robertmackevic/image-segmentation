{
 "cells": [
  {
   "cell_type": "code",
   "execution_count": null,
   "id": "initial_id",
   "metadata": {
    "collapsed": true
   },
   "outputs": [],
   "source": [
    "import torch\n",
    "from torch.utils.data import DataLoader\n",
    "\n",
    "from src.dataset import COCODataset\n",
    "from src.utils import load_config, download_coco_data\n",
    "from src.trainer import Trainer\n",
    "\n",
    "print(\"Pytorch version:\", torch.__version__)\n",
    "print(\"CUDA enabled:\", torch.cuda.is_available())\n",
    "\n",
    "if torch.cuda.is_available():\n",
    "    print(\"Device:\", torch.cuda.get_device_name())"
   ]
  },
  {
   "cell_type": "code",
   "outputs": [],
   "source": [
    "CONFIG = load_config()\n",
    "CONFIG"
   ],
   "metadata": {
    "collapsed": false
   },
   "id": "7a46bc2588dca0c0",
   "execution_count": null
  },
  {
   "cell_type": "code",
   "outputs": [],
   "source": [
    "data = download_coco_data(config=CONFIG, split=\"train\", max_samples=1000)\n",
    "print(data)\n",
    "\n",
    "# import fiftyone\n",
    "# fiftyone.launch_app(data)"
   ],
   "metadata": {
    "collapsed": false
   },
   "id": "778740f045171b54",
   "execution_count": null
  },
  {
   "cell_type": "code",
   "outputs": [],
   "source": [
    "train_dataset = COCODataset(data[:800], CONFIG)\n",
    "train_dataset.summary()"
   ],
   "metadata": {
    "collapsed": false
   },
   "id": "f83bb57e808da4e1",
   "execution_count": null
  },
  {
   "cell_type": "code",
   "outputs": [],
   "source": [
    "val_dataset = COCODataset(data[800:900], CONFIG)\n",
    "val_dataset.summary()"
   ],
   "metadata": {
    "collapsed": false
   },
   "id": "b6e46ad8f1ee924f",
   "execution_count": null
  },
  {
   "cell_type": "code",
   "outputs": [],
   "source": [
    "test_dataset = COCODataset(data[900:], CONFIG)\n",
    "test_dataset.summary()"
   ],
   "metadata": {
    "collapsed": false
   },
   "id": "9afe80b06afbdfeb",
   "execution_count": null
  },
  {
   "cell_type": "code",
   "outputs": [],
   "source": [
    "train_dl = DataLoader(train_dataset, batch_size=CONFIG.batch_size, pin_memory=True)\n",
    "val_dl = DataLoader(val_dataset, batch_size=CONFIG.batch_size, pin_memory=True)\n",
    "test_dl = DataLoader(test_dataset, batch_size=CONFIG.batch_size, pin_memory=True)"
   ],
   "metadata": {
    "collapsed": false
   },
   "id": "edc2c2cb8a7f2083",
   "execution_count": null
  },
  {
   "cell_type": "code",
   "outputs": [],
   "source": [
    "trainer = Trainer(CONFIG, dataloaders=(train_dl, val_dl))"
   ],
   "metadata": {
    "collapsed": false
   },
   "id": "4584f00b55cfcd68",
   "execution_count": null
  }
 ],
 "metadata": {
  "kernelspec": {
   "display_name": "Python 3",
   "language": "python",
   "name": "python3"
  },
  "language_info": {
   "codemirror_mode": {
    "name": "ipython",
    "version": 2
   },
   "file_extension": ".py",
   "mimetype": "text/x-python",
   "name": "python",
   "nbconvert_exporter": "python",
   "pygments_lexer": "ipython2",
   "version": "2.7.6"
  }
 },
 "nbformat": 4,
 "nbformat_minor": 5
}
