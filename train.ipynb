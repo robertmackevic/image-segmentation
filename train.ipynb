{
 "cells": [
  {
   "cell_type": "code",
   "id": "initial_id",
   "metadata": {
    "collapsed": true
   },
   "source": [
    "import torch\n",
    "from torch.utils.data import DataLoader\n",
    "\n",
    "from src.dataset import COCODataset\n",
    "from src.trainer import Trainer\n",
    "from src.utils import load_config, download_coco_data, seed_everything\n",
    "from src.visuals import Segmentor\n",
    "\n",
    "print(\"Pytorch version:\", torch.__version__)\n",
    "print(\"CUDA enabled:\", torch.cuda.is_available())\n",
    "\n",
    "if torch.cuda.is_available():\n",
    "    print(\"Device:\", torch.cuda.get_device_name())"
   ],
   "outputs": [],
   "execution_count": null
  },
  {
   "cell_type": "code",
   "source": [
    "CONFIG = load_config()\n",
    "seed_everything(CONFIG.seed)\n",
    "segmentor = Segmentor()\n",
    "CONFIG"
   ],
   "metadata": {
    "collapsed": false
   },
   "id": "7a46bc2588dca0c0",
   "outputs": [],
   "execution_count": null
  },
  {
   "cell_type": "code",
   "source": [
    "data = download_coco_data(config=CONFIG, split=\"train\", max_samples=2000)\n",
    "print(data)\n",
    "\n",
    "# import fiftyone\n",
    "# fiftyone.launch_app(data)"
   ],
   "metadata": {
    "collapsed": false
   },
   "id": "778740f045171b54",
   "outputs": [],
   "execution_count": null
  },
  {
   "cell_type": "code",
   "source": [
    "train_dataset = COCODataset(data[:1600])\n",
    "train_dataset.summary()\n",
    "image, masks = train_dataset[0]\n",
    "segmentor.visualize_mask(image, masks)"
   ],
   "metadata": {
    "collapsed": false
   },
   "id": "f83bb57e808da4e1",
   "outputs": [],
   "execution_count": null
  },
  {
   "cell_type": "code",
   "source": [
    "val_dataset = COCODataset(data[1600:1800])\n",
    "val_dataset.summary()\n",
    "image, masks = val_dataset[10]\n",
    "segmentor.visualize_mask(image, masks)"
   ],
   "metadata": {
    "collapsed": false
   },
   "id": "b6e46ad8f1ee924f",
   "outputs": [],
   "execution_count": null
  },
  {
   "cell_type": "code",
   "source": [
    "test_dataset = COCODataset(data[1800:])\n",
    "test_dataset.summary()\n",
    "image, masks = test_dataset[6]\n",
    "segmentor.visualize_mask(image, masks)"
   ],
   "metadata": {
    "collapsed": false
   },
   "id": "9afe80b06afbdfeb",
   "outputs": [],
   "execution_count": null
  },
  {
   "cell_type": "code",
   "source": [
    "train_dl = DataLoader(train_dataset, batch_size=CONFIG.batch_size, pin_memory=True)\n",
    "val_dl = DataLoader(val_dataset, batch_size=CONFIG.batch_size, pin_memory=True)\n",
    "test_dl = DataLoader(test_dataset, batch_size=CONFIG.batch_size, pin_memory=True)"
   ],
   "metadata": {
    "collapsed": false
   },
   "id": "edc2c2cb8a7f2083",
   "outputs": [],
   "execution_count": null
  },
  {
   "cell_type": "code",
   "source": "trainer = Trainer(dataloaders=(train_dl, val_dl))",
   "metadata": {
    "collapsed": false
   },
   "id": "4584f00b55cfcd68",
   "outputs": [],
   "execution_count": null
  },
  {
   "metadata": {},
   "cell_type": "code",
   "source": "trainer.fit()",
   "id": "3e759a0c18a0d098",
   "outputs": [],
   "execution_count": null
  },
  {
   "metadata": {},
   "cell_type": "code",
   "source": [
    "for dataloader in (train_dl, val_dl, test_dl):\n",
    "    losses, iou, m_iou = trainer.eval(dataloader)\n",
    "    trainer.log_losses(losses, phase=\"eval\")\n",
    "    trainer.log_iou(iou, m_iou)\n",
    "    print(\"====================================\")"
   ],
   "id": "ee87f24be77a0400",
   "outputs": [],
   "execution_count": null
  }
 ],
 "metadata": {
  "kernelspec": {
   "display_name": "Python 3",
   "language": "python",
   "name": "python3"
  },
  "language_info": {
   "codemirror_mode": {
    "name": "ipython",
    "version": 2
   },
   "file_extension": ".py",
   "mimetype": "text/x-python",
   "name": "python",
   "nbconvert_exporter": "python",
   "pygments_lexer": "ipython2",
   "version": "2.7.6"
  }
 },
 "nbformat": 4,
 "nbformat_minor": 5
}
