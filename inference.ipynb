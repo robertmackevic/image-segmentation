{
 "cells": [
  {
   "cell_type": "code",
   "id": "initial_id",
   "metadata": {
    "collapsed": true
   },
   "source": [
    "from pathlib import Path\n",
    "\n",
    "from src.models.segnet import SegNet\n",
    "from src.utils import load_config, load_weights\n",
    "from src.visuals import Segmentor"
   ],
   "outputs": [],
   "execution_count": null
  },
  {
   "metadata": {},
   "cell_type": "code",
   "source": [
    "CONFIG = load_config()\n",
    "model = load_weights(\n",
    "    model=SegNet(in_channels=3, out_channels=len(CONFIG.classes) + 1),\n",
    "    filepath=Path(r\".runs/v6/weights_25.pth\")\n",
    ")\n",
    "segmentor = Segmentor(SegNet(in_channels=3, out_channels=len(CONFIG.classes) + 1))"
   ],
   "id": "d126ac795d0f5fa8",
   "outputs": [],
   "execution_count": null
  },
  {
   "metadata": {},
   "cell_type": "code",
   "source": "segmentor.segment_url(\"https://www.lrt.lt/img/2020/05/05/648522-374636-756x425.jpg\")",
   "id": "ce9d231bfc30951a",
   "outputs": [],
   "execution_count": null
  }
 ],
 "metadata": {
  "kernelspec": {
   "display_name": "Python 3",
   "language": "python",
   "name": "python3"
  },
  "language_info": {
   "codemirror_mode": {
    "name": "ipython",
    "version": 2
   },
   "file_extension": ".py",
   "mimetype": "text/x-python",
   "name": "python",
   "nbconvert_exporter": "python",
   "pygments_lexer": "ipython2",
   "version": "2.7.6"
  }
 },
 "nbformat": 4,
 "nbformat_minor": 5
}
